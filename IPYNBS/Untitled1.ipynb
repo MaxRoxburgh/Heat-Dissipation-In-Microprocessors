{
 "cells": [
  {
   "cell_type": "code",
   "execution_count": 12,
   "id": "ec64a14d",
   "metadata": {},
   "outputs": [
    {
     "ename": "ImportError",
     "evalue": "cannot import name 'update_without_source_2' from 'Updates' (C:\\Users\\Maxwell\\OneDrive - Imperial College London\\Heat_Dissipation_In_Microprocessors\\Updates.py)",
     "output_type": "error",
     "traceback": [
      "\u001b[1;31m---------------------------------------------------------------------------\u001b[0m",
      "\u001b[1;31mImportError\u001b[0m                               Traceback (most recent call last)",
      "\u001b[1;32m<ipython-input-12-edf21b7e00de>\u001b[0m in \u001b[0;36m<module>\u001b[1;34m\u001b[0m\n\u001b[1;32m----> 1\u001b[1;33m \u001b[1;32mfrom\u001b[0m \u001b[0mUpdates\u001b[0m \u001b[1;32mimport\u001b[0m \u001b[0mcalc_update_shared_bdd\u001b[0m\u001b[1;33m,\u001b[0m \u001b[0mheat_sinc_boundary\u001b[0m\u001b[1;33m,\u001b[0m \u001b[0minitialise_boundary\u001b[0m\u001b[1;33m,\u001b[0m \u001b[0mupdate_without_source_2\u001b[0m\u001b[1;33m\u001b[0m\u001b[1;33m\u001b[0m\u001b[0m\n\u001b[0m\u001b[0;32m      2\u001b[0m \u001b[1;32mfrom\u001b[0m \u001b[0mUpdates\u001b[0m \u001b[1;32mimport\u001b[0m \u001b[0mupdate_with_source\u001b[0m\u001b[1;33m,\u001b[0m \u001b[0mupdate_without_source\u001b[0m\u001b[1;33m,\u001b[0m \u001b[0mnp\u001b[0m\u001b[1;33m,\u001b[0m \u001b[0mupdate_boundary_convection\u001b[0m\u001b[1;33m\u001b[0m\u001b[1;33m\u001b[0m\u001b[0m\n\u001b[0;32m      3\u001b[0m \u001b[1;32mimport\u001b[0m \u001b[0mtime\u001b[0m\u001b[1;33m\u001b[0m\u001b[1;33m\u001b[0m\u001b[0m\n\u001b[0;32m      4\u001b[0m \u001b[1;33m\u001b[0m\u001b[0m\n\u001b[0;32m      5\u001b[0m \u001b[0mt\u001b[0m \u001b[1;33m=\u001b[0m \u001b[1;33m[\u001b[0m\u001b[1;33m]\u001b[0m\u001b[1;33m\u001b[0m\u001b[1;33m\u001b[0m\u001b[0m\n",
      "\u001b[1;31mImportError\u001b[0m: cannot import name 'update_without_source_2' from 'Updates' (C:\\Users\\Maxwell\\OneDrive - Imperial College London\\Heat_Dissipation_In_Microprocessors\\Updates.py)"
     ]
    }
   ],
   "source": [
    "from Updates import calc_update_shared_bdd, heat_sinc_boundary, initialise_boundary, update_without_source_2\n",
    "from Updates import update_with_source, update_without_source, np, update_boundary_convection\n",
    "import time \n",
    "\n",
    "t = []\n",
    "\n",
    "q = 0.5*1e9 # W/m^3\n",
    "T_a = 293 # K\n",
    "K_si = 150 # W/mK\n",
    "K_ceramic = 230 # W/mK\n",
    "K_alu = 250 # W/mK\n",
    "h = 1e-4 # m         \n",
    "\n",
    "#%% initialising the system\n",
    "\n",
    "ambient = 1\n",
    "\n",
    "# set up the processor\n",
    "\n",
    "vol_pr = 140*10\n",
    "\n",
    "top = np.array([ambient for i in range(140)])\n",
    "bottom = top.copy()\n",
    "left = np.array([ambient for i in range(10)])\n",
    "right = left.copy()\n",
    "\n",
    "T_0_pr, T_k_pr = initialise_boundary(top, left, right, bottom, ambient,[ambient,ambient,ambient,ambient])\n",
    "\n",
    "# set up the case\n",
    "\n",
    "vol_cs = 200*20\n",
    "\n",
    "top = np.array([ambient for i in range(200)])\n",
    "bottom = top.copy()\n",
    "left = np.array([ambient for i in range(20)])\n",
    "right = left.copy()\n",
    "\n",
    "T_0_cs, T_k_cs = initialise_boundary(top, left, right, bottom, ambient,[ambient,ambient,ambient,ambient])\n",
    "\n",
    "\n",
    "# set up the main body of the heat sinc (34x4)\n",
    "\n",
    "sinc_length = 340\n",
    "spacing = 20\n",
    "vol_sinc = sinc_length*40\n",
    "\n",
    "top = np.array([ambient for i in range(sinc_length)])\n",
    "bottom = top.copy()\n",
    "left = np.array([ambient for i in range(40)])\n",
    "right = left.copy()\n",
    "\n",
    "T_0_hs, T_k_hs = initialise_boundary(top, left, right, bottom, ambient,[ambient,ambient,ambient,ambient])\n",
    "\n",
    "# set up fins for heat sinc\n",
    "\n",
    "fin_length = 300\n",
    "\n",
    "top = np.array([ambient for i in range(10)])\n",
    "bottom = top.copy()\n",
    "left = np.array([ambient for i in range(fin_length)])\n",
    "right = left.copy()\n",
    "\n",
    "n_fins = int((sinc_length+spacing)/(10+spacing))\n",
    "\n",
    "vol_fins = n_fins*10*fin_length\n",
    "fin_0, fin_k = initialise_boundary(top, left, right, bottom, ambient,[ambient,ambient,ambient,ambient])\n",
    "T_0_fn = np.array([fin_0 for i in range(n_fins)])\n",
    "T_k_fn = np.array([fin_k for i in range(n_fins)])\n",
    "\n",
    "\n",
    "#%% plot to see initial system\n",
    "\n",
    "import Plotting as plot\n",
    "\n",
    "plot.plot_whole_system(T_k_cs, T_k_pr, T_k_fn, T_k_hs, 0)\n",
    "\n",
    "#%% fist boundary update: nat convection#########################################\n",
    "\n",
    "t.append(time.time()) # 0\n",
    "t.append(time.time()) # 1\n",
    "\n",
    "T_0_pr_update, T_0_cs_update = update_boundary_convection(T_k_pr, K_si), update_boundary_convection(T_k_cs, K_ceramic)\n",
    "T_0_hs_update = update_boundary_convection(T_k_hs, K_alu)\n",
    "\n",
    "t.append(time.time()) # 2\n",
    "\n",
    "T_0_fn_update = np.array([update_boundary_convection(np.matrix(fin_k), K_alu) for fin_k in T_k_fn])\n",
    "\n",
    "#for fin_0, fin_k in zip(T_0_fn_update, T_k_fn):\n",
    "#    fin_0 = update_boundary_convection(np.matrix(fin_k), K_alu)\n",
    "    \n",
    "t.append(time.time()) # 3\n",
    "    \n",
    "#%% fist boundary update: shared boundies #########################################\n",
    "\n",
    "t.append(time.time()) # 4\n",
    "\n",
    "T_0_pr_update, T_0_cs_update = calc_update_shared_bdd(T_k_pr[2].A1, T_k_cs[-3].A1, K_si, K_ceramic, T_0_pr_update, T_0_cs_update)\n",
    "T_0_cs_update, T_0_hs_update = calc_update_shared_bdd(T_k_cs[2].A1, T_k_hs[-3].A1, K_ceramic, K_alu, T_0_cs_update, T_0_hs_update)\n",
    "\n",
    "t.append(time.time()) # 5\n",
    "\n",
    "T_above_list = np.array([fin_k[-3] for fin_k in T_k_fn])\n",
    "T_below = T_k_hs[-3].A1\n",
    "T_0_hs_update, T_0_fn_update = heat_sinc_boundary(T_below, T_above_list, T_0_hs_update, T_0_fn_update)\n",
    "\n",
    "t.append(time.time()) # 6\n",
    "\n",
    "#%% fist inside update #################################\n",
    "\n",
    "\n",
    "T_k_pr_update = update_with_source(T_k_pr, T_0_pr_update, q, h)\n",
    "\n",
    "t.append(time.time()) # 7\n",
    "\n",
    "\n",
    "T_k_cs_update = update_without_source(T_k_cs, T_0_cs_update)\n",
    "T_k_hs_update = update_without_source(T_k_hs, T_0_hs_update)\n",
    "\n",
    "t.append(time.time()) # 8\n",
    "\n",
    "T_k_fn_update = np.array([update_without_source(np.matrix(fin_k), fin_0) for fin_0, fin_k in zip(T_0_fn_update, T_k_fn_update)])\n",
    "\n",
    "t.append(time.time()) # 9\n",
    "\n",
    "T_k_cs_update = update_without_source_2(T_k_cs, T_0_cs_update)\n",
    "T_k_hs_update = update_without_source_2(T_k_hs, T_0_hs_update)\n",
    "\n",
    "t.append(time.time())\n"
   ]
  },
  {
   "cell_type": "code",
   "execution_count": 11,
   "id": "024091a9",
   "metadata": {},
   "outputs": [
    {
     "data": {
      "text/plain": [
       "9.87467442264282"
      ]
     },
     "execution_count": 11,
     "metadata": {},
     "output_type": "execute_result"
    },
    {
     "data": {
      "image/png": "[encoded data removed]",
      "text/plain": [
       "<Figure size 432x288 with 1 Axes>"
      ]
     },
     "metadata": {
      "needs_background": "light"
     },
     "output_type": "display_data"
    }
   ],
   "source": [
    "import matplotlib.pyplot as plt\n",
    "\n",
    "diff_time = [t[i+1] - t[i] for i in range(len(t)-1)]\n",
    "\n",
    "plt.plot([i for i in range(len(diff_time))], diff_time, 'x')\n",
    "\n",
    "diff_time[2]/diff_time[1]\n",
    "\n",
    "#10*300*12/(40*340 + 140*10 + 20*240)"
   ]
  },
  {
   "cell_type": "code",
   "execution_count": 27,
   "id": "ac190402",
   "metadata": {},
   "outputs": [
    {
     "data": {
      "text/plain": [
       "1.8181818181818181"
      ]
     },
     "execution_count": 27,
     "metadata": {},
     "output_type": "execute_result"
    },
    {
     "data": {
      "image/png": "[encoded data removed]",
      "text/plain": [
       "<Figure size 432x288 with 1 Axes>"
      ]
     },
     "metadata": {
      "needs_background": "light"
     },
     "output_type": "display_data"
    }
   ],
   "source": [
    "import matplotlib.pyplot as plt\n",
    "\n",
    "diff_time = [t[i+1] - t[i] for i in range(len(t)-1)]\n",
    "\n",
    "plt.plot([i for i in range(len(diff_time))], diff_time, 'x')\n",
    "\n",
    "diff_time[2]/diff_time[1]\n",
    "\n",
    "#10*300*12/(40*340 + 140*10 + 20*240)"
   ]
  },
  {
   "cell_type": "code",
   "execution_count": null,
   "id": "fe29e12d",
   "metadata": {},
   "outputs": [],
   "source": [
    "#%% iterations!!!\n",
    "\n",
    "from Calculators import average_temp\n",
    "\n",
    "avT_k_1 = 1.0059450123656382\n",
    "diff_array = []\n",
    "av_array = []\n",
    "\n",
    "for i in range(10000):\n",
    "    \n",
    "    # update boundaries convection\n",
    "    T_0_pr_update, T_0_cs_update = update_boundary_convection(T_k_pr_update, K_si), update_boundary_convection(T_k_cs_update, K_ceramic)\n",
    "    T_0_hs_update = update_boundary_convection(T_k_hs_update, K_alu)\n",
    "    T_0_fn_update = np.array([update_boundary_convection(np.matrix(fin_k), K_alu) for fin_k in T_k_fn_update])\n",
    "\n",
    "    \n",
    "    # update boudaries shared\n",
    "    T_0_pr_update, T_0_cs_update = calc_update_shared_bdd(T_k_pr_update[2].A1, T_k_cs_update[-3].A1, K_si, K_ceramic, T_0_pr_update, T_0_cs_update)\n",
    "    T_0_cs_update, T_0_hs_update = calc_update_shared_bdd(T_k_cs_update[2].A1, T_k_hs_update[-3].A1, K_ceramic, K_alu, T_0_cs_update, T_0_hs_update)\n",
    "    T_above_list = np.array([fin_k[-3] for fin_k in T_k_fn_update])\n",
    "    T_below = T_k_hs_update[-3].A1\n",
    "    T_0_hs_update, T_0_fn_update = heat_sinc_boundary(T_below, T_above_list, T_0_hs_update, T_0_fn_update)\n",
    "    \n",
    "    # update inside temps\n",
    "    T_k_pr_update = update_with_source(T_k_pr_update, T_0_pr_update, q, h)\n",
    "    T_k_cs_update = update_without_source(T_k_cs_update, T_0_cs_update)\n",
    "    T_k_hs_update = update_without_source(T_k_hs_update, T_0_hs_update)\n",
    "    T_k_fn_update = np.array([update_without_source(np.matrix(fin_k), fin_0) for fin_0, fin_k in zip(T_0_fn_update, T_k_fn_update)])\n",
    "\n",
    "    \n",
    "    if i%1000 == 0:\n",
    "        average_T_pr = average_temp(T_k_pr_update)\n",
    "        average_T_cs = average_temp(T_k_cs_update)\n",
    "        average_T_fn = sum([average_temp(np.matrix(T_k)) for T_k in T_k_fn_update])/len(T_k_fn_update)\n",
    "        average_T_hs = average_temp(T_k_cs_update)\n",
    "        \n",
    "        average_fin_hs = (vol_fins*average_T_fn + vol_sinc*average_T_hs)/(vol_fins+vol_sinc)\n",
    "        \n",
    "        print('T:     pr     |     cs     |      hs      |\\n', average_T_pr, average_T_cs, average_fin_hs)\n",
    "        \n",
    "        plot.plot_whole_system(T_k_cs_update, T_k_pr_update, T_k_fn_update, T_k_hs_update, ambient)    \n",
    "        \n",
    "        avT_k = (vol_fins*average_T_fn + vol_sinc*average_T_hs + vol_cs*average_T_cs + vol_pr* average_T_pr)/(vol_fins+vol_sinc+vol_cs+vol_pr)\n",
    "        diff = avT_k-avT_k_1\n",
    "        print('\\nAverage T, difference from 1000 runs ago:\\n',avT_k, diff)\n",
    "        avT_k_1 = avT_k\n",
    "\n",
    "    if i%1000 == 0 and i >= 2000:\n",
    "\n",
    "        diff_array.append(diff)\n",
    "        av_array.append(avT_k)"
   ]
  },
  {
   "cell_type": "code",
   "execution_count": null,
   "id": "253d369d",
   "metadata": {},
   "outputs": [],
   "source": []
  }
 ],
 "metadata": {
  "kernelspec": {
   "display_name": "Python 3",
   "language": "python",
   "name": "python3"
  },
  "language_info": {
   "codemirror_mode": {
    "name": "ipython",
    "version": 3
   },
   "file_extension": ".py",
   "mimetype": "text/x-python",
   "name": "python",
   "nbconvert_exporter": "python",
   "pygments_lexer": "ipython3",
   "version": "3.8.8"
  }
 },
 "nbformat": 4,
 "nbformat_minor": 5
}
